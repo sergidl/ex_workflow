{
  "nbformat": 4,
  "nbformat_minor": 0,
  "metadata": {
    "colab": {
      "name": "github-workflows.ipynb",
      "provenance": [],
      "include_colab_link": true
    },
    "kernelspec": {
      "name": "python3",
      "display_name": "Python 3"
    }
  },
  "cells": [
    {
      "cell_type": "markdown",
      "metadata": {
        "id": "view-in-github",
        "colab_type": "text"
      },
      "source": [
        "<a href=\"https://colab.research.google.com/github/sergidl/ex_workflow/blob/master/github_workflows.ipynb\" target=\"_parent\"><img src=\"https://colab.research.google.com/assets/colab-badge.svg\" alt=\"Open In Colab\"/></a>"
      ]
    },
    {
      "cell_type": "markdown",
      "metadata": {
        "id": "x8iMVr_sraFH"
      },
      "source": [
        "\n",
        "# Github workflows\n",
        "\n",
        "\n"
      ]
    },
    {
      "cell_type": "markdown",
      "metadata": {
        "id": "40xbFRWvm4Pj"
      },
      "source": [
        "A github workflow is any **yaml** file in ``.github/workflows`` folder in a **github** repository\n",
        "\n",
        "It has three main parts (see example below):\n",
        "\n",
        "* name of the workflow: ``name``\n",
        "* trigers that lounch the workflow, can be commits (release), manual (workflow_dispatch) or time triggered (schedule). It is delimited by the ``on``keyworkd.\n",
        "* finaly the ``jobs`` section contains all the jobs that constitute the workflow.\n",
        "\n",
        "```\n",
        "name: my workflow\n",
        "\n",
        "on:\n",
        "  release:\n",
        "    types: [ created ]\n",
        "  workflow_dispatch:\n",
        "    inputs:\n",
        "      message:\n",
        "        description: 'message to display'\n",
        "        required: true\n",
        "        default: 'hello world'\n",
        "  schedule:\n",
        "    - cron: \"*/5 * * * *\"\n",
        "\n",
        "jobs:\n",
        "  job1:\n",
        "    ...\n",
        "  job2:\n",
        "    ...\n",
        "  job3:\n",
        "    ...\n",
        "```\n",
        "\n",
        "\n",
        "\n"
      ]
    },
    {
      "cell_type": "markdown",
      "metadata": {
        "id": "870lJeNypsWG"
      },
      "source": [
        "Each job has a tag (ex: job1), a name, a container class (ex: ubuntu-latest) where it should run and a series of steps to execute:\n",
        "\n",
        "```\n",
        "...\n",
        "\n",
        "jobs:\n",
        "  job1:\n",
        "    name: a job 1\n",
        "    runs-on: ubuntu-latest\n",
        "    steps:\n",
        "      - name: step 1\n",
        "        run: |\n",
        "          echo \"${{github.event.inputs.message}}\"\n",
        "      - name: step 2\n",
        "        run: |\n",
        "          echo I insist: \"${{github.event.inputs.message}}\"\n",
        "```\n"
      ]
    },
    {
      "cell_type": "markdown",
      "metadata": {
        "id": "zp-OEsEsqf0W"
      },
      "source": [
        "## Exercise 1\n",
        "\n",
        "Create a **public** github repository with this notebook as it's single file and a manual triggered workflow that echoes the message that the users enters each time he/she runs the workflow."
      ]
    },
    {
      "cell_type": "markdown",
      "metadata": {
        "id": "Z3pP3V9dsabA"
      },
      "source": [
        "## Using predefined actions\n",
        "\n",
        "Job steps can also be predefined actions that encapsulate more complex behaviours. There are numerous predefined actions in github and you can write your own. The example below shows how to launch an email action (dawidd6/action-send-mail@v2) wich is defined in github's repository \"dawidd6/action-send-mail\". The ``width``keyboard lets you assign values to actions' variables (ex: server address, etc):\n",
        "\n",
        "```\n",
        "jobs:\n",
        "  job-email:\n",
        "    name: send-email\n",
        "    runs-on: ubuntu-latest\n",
        "    steps:\n",
        "      - name: Send mail\n",
        "        uses: dawidd6/action-send-mail@v2\n",
        "        with:\n",
        "          server_address: smtp.gmail.com\n",
        "          server_port: 465\n",
        "          username: ${{secrets.MAIL_USERNAME}}\n",
        "          password: ${{secrets.MAIL_PASSWORD}}\n",
        "          subject: Github Actions job result\n",
        "          # Literal body:\n",
        "          body: Build job of ${{github.repository}} completed successfully!\n",
        "          # Read file contents as body:\n",
        "          body: file://README.md\n",
        "          to: obiwan@tatooine.com,yoda@dagobah.com\n",
        "          from: Luke Skywalker # <user@example.com>\n",
        "          # Optional carbon copy recipients\n",
        "          cc: kyloren@starkiller.com,leia@alderaan.com\n",
        "          # Optional blind carbon copy recipients\n",
        "          bcc: r2d2@jakku.com,hansolo@milleniumfalcon.com\n",
        "          # Optional content type (defaults to text/plain):\n",
        "          content_type: text/html\n",
        "          # Optional converting Markdown to HTML (set content_type to text/html too):\n",
        "          convert_markdown: true\n",
        "          # Optional attachments:\n",
        "          attachments: attachments.zip,git.diff,./dist/static/main.js\n",
        "```"
      ]
    },
    {
      "cell_type": "markdown",
      "metadata": {
        "id": "w_twdLRKuH0r"
      },
      "source": [
        "## Exercise 2\n",
        "\n",
        "In the same repository as exercise 1 write a new manual trigered workflow that sends an email to `jmcarbo@imim.es` with your greetings (ex: Greetings from John Smith) along with the name of the github repository that has send the email."
      ]
    }
  ]
}